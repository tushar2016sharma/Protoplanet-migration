{
 "cells": [
  {
   "cell_type": "markdown",
   "id": "eddb30f2",
   "metadata": {},
   "source": [
    "# Numerical solution of protoplanet migration model differential equation (eqn. 34)\n"
   ]
  },
  {
   "cell_type": "markdown",
   "id": "41bb2bf0",
   "metadata": {},
   "source": [
    "Taken from : 'Protoplanet Migration by Nebula Tides' - Ward, 1997"
   ]
  },
  {
   "cell_type": "code",
   "execution_count": 1,
   "id": "5cc27101",
   "metadata": {},
   "outputs": [],
   "source": [
    "import math\n",
    "import time\n",
    "import numpy as np\n",
    "import scipy as sp\n",
    "import sympy as smp\n",
    "from scipy.integrate import quad\n",
    "import scipy.optimize as optimize\n",
    "from sympy import *\n",
    "import matplotlib as mpl\n",
    "import matplotlib.pyplot as plt"
   ]
  },
  {
   "cell_type": "code",
   "execution_count": 2,
   "id": "9fce3bb2",
   "metadata": {
    "collapsed": true
   },
   "outputs": [
    {
     "data": {
      "image/png": "[encoded data removed]",
      "text/plain": [
       "<Figure size 432x288 with 1 Axes>"
      ]
     },
     "metadata": {
      "needs_background": "light"
     },
     "output_type": "display_data"
    }
   ],
   "source": [
    "# Torque density F(x) and its integral Γ(x)\n",
    "\n",
    "f = lambda x: np.piecewise(x, [(x > 2/3), (x < -2/3), (-2/3 < x) & (x < 2/3)], \n",
    "                          [lambda x: np.exp(-abs(-1.05/(x - 2/3)))*(0.228/(x - 2/3)**4 + 0.136/(x - 2/3)**3), \n",
    "                           lambda x: -1*np.exp(-abs(-1.05/(x + 2/3)))*(0.228/(x + 2/3)**4 + 0.136/(x + 2/3)**3),\n",
    "                           lambda x: 0])\n",
    "\n",
    "\n",
    "g = lambda x: np.piecewise(x, [(x > 2/3), (x < -2/3), (-2/3 < x) & (x < 2/3)], \n",
    "                          [lambda x: np.exp(-abs(1.05/(x-2/3)))*(0.197*(2+2*abs(1.05/(x-2/3))+(1.05/(x-2/3))**2)+0.117*(1+abs(1.05/(x-2/3)))), \n",
    "                           lambda x: np.exp(-abs(1.05/(x+2/3)))*(0.197*(2+2*abs(1.05/(x+2/3))+(1.05/(x+2/3))**2)-0.117*(1+abs(1.05/(x+2/3)))),\n",
    "                           lambda x: 0])\n",
    "\n",
    "x_val = np.arange(-5, 5, 0.01)\n",
    "\n",
    "plt.plot(x_val, f(x_val), label = 'F(x)')\n",
    "plt.plot(x_val, g(x_val), label = 'Γ(x)')\n",
    "plt.xlabel('x', fontsize = 12)\n",
    "plt.ylabel('dT/dx', fontsize = 12)\n",
    "plt.legend()\n",
    "plt.show()"
   ]
  },
  {
   "cell_type": "code",
   "execution_count": 3,
   "id": "5dfbb6e5",
   "metadata": {
    "collapsed": true
   },
   "outputs": [
    {
     "name": "stdout",
     "output_type": "stream",
     "text": [
      "Velocity from expansion for mass = 3.0000000000000004e-07: -1.516179672970362e-06\n",
      "Corresponding gamma: 0.5970047560419863\n",
      "\n",
      "\n",
      "Velocity from expansion for mass = 5.79209318664975e-07: -2.9025732909233716e-06\n",
      "Corresponding gamma: 1.1749094568588576\n",
      "\n",
      "\n",
      "Velocity from expansion for mass = 1.118278116094482e-06: -5.2882678496648095e-06\n",
      "Corresponding gamma: 2.169363039417572\n",
      "\n",
      "\n",
      "Velocity from expansion for mass = 2.1590570190034557e-06: -7.274748513951505e-06\n",
      "Corresponding gamma: 2.9974081913190234\n",
      "\n",
      "\n",
      "Velocity from expansion for mass = 4.168486483119412e-06: -4.536294554271162e-06\n",
      "Corresponding gamma: 1.8559102820842128\n",
      "\n",
      "\n",
      "Velocity from expansion for mass = 8.048087385839174e-06: -1.4208771758895266e-06\n",
      "Corresponding gamma: 0.5572788366858951\n",
      "\n",
      "\n",
      "Velocity from expansion for mass = 1.553842403769363e-05: -3.4825785177683955e-07\n",
      "Corresponding gamma: 0.11016789967295006\n",
      "\n",
      "\n",
      "Velocity from expansion for mass = 3e-05: -1.1290200498621114e-07\n",
      "Corresponding gamma: 0.01206210312012033\n",
      "\n",
      "\n",
      "Velocity from expansion for mass = 5.792093186649749e-05: -8.608893359842604e-08\n",
      "Corresponding gamma: 0.0008853349947605958\n",
      "\n",
      "\n",
      "Velocity from expansion for mass = 0.00011182781160944814: -8.411729283310043e-08\n",
      "Corresponding gamma: 6.347571046427691e-05\n",
      "\n",
      "\n",
      "Velocity from expansion for mass = 0.00021590570190034542: -8.39758918333868e-08\n",
      "Corresponding gamma: 4.5340784655891475e-06\n",
      "\n",
      "\n",
      "Velocity from expansion for mass = 0.00041684864831194123: -8.396578598727879e-08\n",
      "Corresponding gamma: 3.2155476674723033e-07\n",
      "\n",
      "\n",
      "Velocity from expansion for mass = 0.0008048087385839173: -8.396506850886971e-08\n",
      "Corresponding gamma: 2.2480867409812657e-08\n",
      "\n",
      "\n",
      "Velocity from expansion for mass = 0.001553842403769362: -8.396501823831117e-08\n",
      "Corresponding gamma: 1.5260738216981703e-09\n",
      "\n",
      "\n",
      "Velocity from expansion for mass = 0.003: -8.396501481012544e-08\n",
      "Corresponding gamma: 9.706793091431873e-11\n",
      "\n",
      "\n"
     ]
    }
   ],
   "source": [
    "# Define constants\n",
    "\n",
    "h = 0.07\n",
    "alpha = 10**-5     # viscosity parameter\n",
    "mu_g = 0.0035\n",
    "nu = (0.0024**2 * alpha) / (3 * h**3)\n",
    "\n",
    "v = Symbol('v')\n",
    "\n",
    "def expansion(mu):\n",
    "    \n",
    "    mu_v = 0.0024 * (alpha)**(1/2)                                                       # equation 40\n",
    "    mu2 = 0.00371 * alpha**(2/3) / 0.63                                                  # auxiliary mass (eqn.43)\n",
    "    dv = ((-2 * mu_g * mu_v**2) * (1 - np.exp(-0.248 * (mu/mu_v)**2))) / (h**3 * mu)     # equation 41\n",
    "    \n",
    "    v_exp = (dv / (1 + (mu/mu2)**3)) - ((3 * nu/2) / (1 + (mu2/mu)**3))                  # equation 44 \n",
    "    gamma_exp = (-h / (3 * nu)) * (v_exp + (3 * nu) / 2)                                 # definition of gamma from eqn.33\n",
    "    \n",
    "    print(f'Velocity from expansion for mass = {i}: {v_exp}')\n",
    "    print(f'Corresponding gamma: {gamma_exp}')\n",
    "    print('\\n')\n",
    "    \n",
    "\n",
    "index = np.arange(-1, 3.2857, 2/7)            \n",
    "mass = (3 * 10**-6) * 10**index      \n",
    "mass_arr = np.array(mass/((3 * 10**-6)))    # range of mass to obtain plots\n",
    "mass_arr2 = mass_arr.astype(float)           \n",
    "log_mass = np.log10(mass_arr2)              # conversion to log scale\n",
    "\n",
    "\n",
    "for i in mass[0 : ]:                        # gives velocity and the corresponding gamma from expansion for particular mass   \n",
    "    v_exp_val = expansion(i)\n"
   ]
  },
  {
   "cell_type": "code",
   "execution_count": 4,
   "id": "f1f2b94b",
   "metadata": {},
   "outputs": [
    {
     "name": "stdout",
     "output_type": "stream",
     "text": [
      "v input: -3.8097599999999996e-07\n",
      "v output: -3.809465090036135e-07\n"
     ]
    }
   ],
   "source": [
    "def j(x, y):\n",
    "    return x_integ(x) * y_integ(y)\n",
    "\n",
    "def y_integ(y):\n",
    "    return beta * f(y) * np.exp(-beta * g(y) - ((-h / (3 * nu)) * (v_ep + (3 * nu) / 2)) * y)\n",
    "\n",
    "def x_integ(x):\n",
    "    return f(x) * np.exp(beta * g(x) + ((-h / (3 * nu)) * (v_ep + (3 * nu) / 2)) * x)\n",
    "\n",
    "def j_integ(x):\n",
    "    return x_integ(x) * integral_of_f(x)\n",
    "\n",
    "def integral_of_f(x):\n",
    "    return quad(y_integ, 20, x)[0]   # ADD(ed) A SMALLER VALUE OF LIMIT HERE LIKE 20\n",
    "\n",
    "\n",
    "mu = 1.8928 * 10**-5                        # value of mass\n",
    "beta = (mu**2) / (3 * nu * h**3)\n",
    "\n",
    "v_ep = -3.80976*10**-7   # value from expansion to compare to (v_input)\n",
    "print(\"v input:\",v_ep)\n",
    "\n",
    "result = (-2 * mu * mu_g * 0.248 / h**3) - (2 * mu * mu_g / h**3) * quad(j_integ, -20, 20)[0]  \n",
    "print(\"v output:\",result)\n"
   ]
  },
  {
   "cell_type": "code",
   "execution_count": 5,
   "id": "bb720a00",
   "metadata": {
    "scrolled": true
   },
   "outputs": [
    {
     "name": "stdout",
     "output_type": "stream",
     "text": [
      "\n",
      " relative error = 7.740906615230129e-05\n"
     ]
    }
   ],
   "source": [
    "print('\\n', 'relative error =',abs((result - v_ep) / v_ep))    "
   ]
  },
  {
   "cell_type": "code",
   "execution_count": 6,
   "id": "bcecfe8e",
   "metadata": {},
   "outputs": [],
   "source": [
    "def func(vinp):    # FUNCTION TO SOLVE THE MAIN DIFFERENTIAL EQUATION \n",
    "    \n",
    "    def j(x, y):\n",
    "        return x_integ(x) * y_integ(y)\n",
    "\n",
    "    def y_integ(y):\n",
    "        return beta * f(y) * np.exp(-beta * g(y) - ((-h / (3 * nu)) * (vinp + (3 * nu) / 2)) * y)\n",
    "\n",
    "    def x_integ(x):\n",
    "        return f(x) * np.exp(beta * g(x) + ((-h / (3 * nu)) * (vinp + (3 * nu) / 2)) * x)\n",
    "\n",
    "    def j_integ(x):\n",
    "        return x_integ(x) * integral_of_f(x)\n",
    "\n",
    "    def integral_of_f(x):\n",
    "        return quad(y_integ, 20, x)[0]   \n",
    "\n",
    "\n",
    "    mu = 1.8928e-5                        \n",
    "    beta = (mu**2) / (3 * nu * h**3)\n",
    "    \n",
    "    v_output = vinp - ((-2 * mu * mu_g * 0.248 / h**3) - (2 * mu * mu_g / h**3) * quad(j_integ, -20, 20)[0])   \n",
    "\n",
    "    return v_output"
   ]
  },
  {
   "cell_type": "code",
   "execution_count": 7,
   "id": "db67f905",
   "metadata": {
    "scrolled": true
   },
   "outputs": [
    {
     "data": {
      "text/plain": [
       "1.466547249201142e-07"
      ]
     },
     "execution_count": 7,
     "metadata": {},
     "output_type": "execute_result"
    }
   ],
   "source": [
    "func(-3.8*10**-7)"
   ]
  },
  {
   "cell_type": "code",
   "execution_count": 8,
   "id": "87c3ede3",
   "metadata": {
    "collapsed": true
   },
   "outputs": [
    {
     "name": "stdout",
     "output_type": "stream",
     "text": [
      "1   -3.75e-07   2.4999999999999972e-08\n",
      "2   -3.875e-07   1.2499999999999986e-08\n",
      "3   -3.8125e-07   6.249999999999993e-09\n",
      "4   -3.78125e-07   3.125000000000023e-09\n",
      "5   -3.796875e-07   1.562499999999985e-09\n",
      "6   -3.8046875000000004e-07   7.81249999999966e-10\n",
      "7   -3.8085937500000005e-07   3.9062499999995656e-10\n",
      "8   -3.8105468750000005e-07   1.9531250000000475e-10\n",
      "9   -3.8095703125000005e-07   9.765625000000237e-11\n",
      "10   -3.809082031250001e-07   4.882812499997472e-11\n",
      "11   -3.8093261718750003e-07   2.441406249996089e-11\n",
      "12   -3.8092041015625005e-07   1.2207031249980444e-11\n",
      "13   -3.8091430664062504e-07   6.1035156249637524e-12\n",
      "14   -3.8091125488281256e-07   3.0517578124818762e-12\n",
      "15   -3.809097290039063e-07   1.5258789062409381e-12\n",
      "16   -3.809104919433594e-07   7.629394530939993e-13\n",
      "17   -3.8091011047363284e-07   3.8146972652052986e-13\n",
      "18   -3.8090991973876955e-07   1.9073486323379515e-13\n",
      "19   -3.8090982437133796e-07   9.536743164336735e-14\n",
      "20   -3.809097766876221e-07   4.76837157952139e-14\n",
      "21   -3.8090975284576424e-07   2.3841857924076728e-14\n",
      "22   -3.8090974092483525e-07   1.1920928935568585e-14\n",
      "23   -3.809097349643708e-07   5.960464494254072e-15\n",
      "24   -3.8090973198413854e-07   2.9802322206572563e-15\n",
      "25   -3.809097304940224e-07   1.4901160838588486e-15\n",
      "26   -3.809097297489644e-07   7.450580683992039e-16\n",
      "27   -3.809097293764354e-07   3.7252906066938154e-16\n",
      "28   -3.809097291901708e-07   1.8626450386491117e-16\n",
      "29   -3.809097290970386e-07   9.313227840223519e-17\n",
      "\n",
      " answer: -3.809097290970386e-07\n",
      "\n",
      " time taken: 13.919507972399394 min\n"
     ]
    }
   ],
   "source": [
    "# BISECTION ALGORITHM FROM SCRATCH!\n",
    "\n",
    "# To acheive similar level of accuracy as optimize.bisect, tolerance should be set very small.\n",
    "\n",
    "start = time.time()\n",
    "\n",
    "def bisection(v1, v2, tol):\n",
    "    \n",
    "    fa = v1\n",
    "    fb = v2    \n",
    "    i = 0\n",
    "    \n",
    "    while (np.abs(fa - fb) >= tol):\n",
    "        \n",
    "        fc = (fa + fb) / 2.0\n",
    "        product = func(fa) * func(fc)\n",
    "        \n",
    "        if product > tol:\n",
    "            fa = fc\n",
    "        else:\n",
    "            if product < tol:  \n",
    "                fb = fc\n",
    "                \n",
    "        i = i + 1\n",
    "        print(i,\" \",fc,\" \",abs(fa - fb))    # iteration, root(so far), achieved tolerance \n",
    "\n",
    "    return fc\n",
    "\n",
    "ans = bisection(-3.5e-07, -4e-07, 1e-16)\n",
    "\n",
    "end = time.time()\n",
    "print('\\n',\"answer:\", ans)\n",
    "print('\\n', \"time taken:\", (end - start) / 60,\"min\")"
   ]
  },
  {
   "cell_type": "code",
   "execution_count": 18,
   "id": "b3a84709",
   "metadata": {},
   "outputs": [
    {
     "name": "stdout",
     "output_type": "stream",
     "text": [
      "answer: -3.809768676757813e-07\n",
      "\n",
      " time taken: 3.6617147564888 min\n"
     ]
    }
   ],
   "source": [
    "# Bisection algorithm implemented by optimize.bisect\n",
    "\n",
    "start = time.time()\n",
    "\n",
    "answer = optimize.bisect(func, -3.5e-7, -4e-7)\n",
    "\n",
    "print(\"answer:\",answer)\n",
    "end = time.time()\n",
    "print('\\n',\"time taken:\",(end-start)/60,\"min\")"
   ]
  },
  {
   "cell_type": "code",
   "execution_count": 9,
   "id": "831e917f",
   "metadata": {
    "collapsed": true
   },
   "outputs": [
    {
     "name": "stderr",
     "output_type": "stream",
     "text": [
      "<ipython-input-6-c59e30a7cea5>:7: RuntimeWarning: overflow encountered in exp\n",
      "  return beta * f(y) * np.exp(-beta * g(y) - ((-h / (3 * nu)) * (vinp + (3 * nu) / 2)) * y)\n",
      "<ipython-input-6-c59e30a7cea5>:7: RuntimeWarning: invalid value encountered in double_scalars\n",
      "  return beta * f(y) * np.exp(-beta * g(y) - ((-h / (3 * nu)) * (vinp + (3 * nu) / 2)) * y)\n",
      "<ipython-input-6-c59e30a7cea5>:16: IntegrationWarning: The occurrence of roundoff error is detected, which prevents \n",
      "  the requested tolerance from being achieved.  The error may be \n",
      "  underestimated.\n",
      "  return quad(y_integ, 20, x)[0]\n",
      "<ipython-input-6-c59e30a7cea5>:10: RuntimeWarning: overflow encountered in exp\n",
      "  return f(x) * np.exp(beta * g(x) + ((-h / (3 * nu)) * (vinp + (3 * nu) / 2)) * x)\n",
      "<ipython-input-6-c59e30a7cea5>:16: IntegrationWarning: The maximum number of subdivisions (50) has been achieved.\n",
      "  If increasing the limit yields no improvement it is advised to analyze \n",
      "  the integrand in order to determine the difficulties.  If the position of a \n",
      "  local difficulty can be determined (singularity, discontinuity) one will \n",
      "  probably gain from splitting up the interval and calling the integrator \n",
      "  on the subranges.  Perhaps a special-purpose integrator should be used.\n",
      "  return quad(y_integ, 20, x)[0]\n",
      "<ipython-input-6-c59e30a7cea5>:10: RuntimeWarning: invalid value encountered in multiply\n",
      "  return f(x) * np.exp(beta * g(x) + ((-h / (3 * nu)) * (vinp + (3 * nu) / 2)) * x)\n",
      "<ipython-input-6-c59e30a7cea5>:22: IntegrationWarning: The occurrence of roundoff error is detected, which prevents \n",
      "  the requested tolerance from being achieved.  The error may be \n",
      "  underestimated.\n",
      "  v_output = vinp - ((-2 * mu * mu_g * 0.248 / h**3) - (2 * mu * mu_g / h**3) * quad(j_integ, -20, 20)[0])\n"
     ]
    },
    {
     "name": "stdout",
     "output_type": "stream",
     "text": [
      "0   0.9999999309224495   nan\n",
      "1   0.9999981174640202   nan\n",
      "2   0.9999963040088794   nan\n",
      "3   0.9999944905570273   nan\n",
      "4   0.9999926771084637   nan\n",
      "5   0.9999908636631888   nan\n",
      "6   0.9999890502212024   nan\n",
      "7   0.9999872367825048   nan\n",
      "8   0.9999854233470956   nan\n",
      "9   0.9999836099149751   nan\n",
      "10   0.9999817964861432   nan\n",
      "11   0.9999799830605999   nan\n",
      "12   0.9999781696383451   nan\n"
     ]
    },
    {
     "ename": "KeyboardInterrupt",
     "evalue": "",
     "output_type": "error",
     "traceback": [
      "\u001b[1;31m---------------------------------------------------------------------------\u001b[0m",
      "\u001b[1;31mKeyboardInterrupt\u001b[0m                         Traceback (most recent call last)",
      "\u001b[1;32m<ipython-input-9-8e2866071aa9>\u001b[0m in \u001b[0;36m<module>\u001b[1;34m\u001b[0m\n\u001b[0;32m      8\u001b[0m \u001b[1;32mfor\u001b[0m \u001b[0mi\u001b[0m \u001b[1;32min\u001b[0m \u001b[0mrange\u001b[0m\u001b[1;33m(\u001b[0m\u001b[0mlen\u001b[0m\u001b[1;33m(\u001b[0m\u001b[0mvval\u001b[0m\u001b[1;33m)\u001b[0m\u001b[1;33m)\u001b[0m\u001b[1;33m:\u001b[0m\u001b[1;33m\u001b[0m\u001b[1;33m\u001b[0m\u001b[0m\n\u001b[0;32m      9\u001b[0m     \u001b[0mvout\u001b[0m\u001b[1;33m.\u001b[0m\u001b[0mappend\u001b[0m\u001b[1;33m(\u001b[0m\u001b[0mfunc\u001b[0m\u001b[1;33m(\u001b[0m\u001b[0mvval\u001b[0m\u001b[1;33m[\u001b[0m\u001b[0mi\u001b[0m\u001b[1;33m]\u001b[0m\u001b[1;33m)\u001b[0m\u001b[1;33m)\u001b[0m\u001b[1;33m\u001b[0m\u001b[1;33m\u001b[0m\u001b[0m\n\u001b[1;32m---> 10\u001b[1;33m     \u001b[0mprint\u001b[0m\u001b[1;33m(\u001b[0m\u001b[0mi\u001b[0m\u001b[1;33m,\u001b[0m\u001b[1;34m\" \"\u001b[0m\u001b[1;33m,\u001b[0m\u001b[0mvval\u001b[0m\u001b[1;33m[\u001b[0m\u001b[0mi\u001b[0m\u001b[1;33m]\u001b[0m\u001b[1;33m,\u001b[0m\u001b[1;34m\" \"\u001b[0m\u001b[1;33m,\u001b[0m\u001b[0mfunc\u001b[0m\u001b[1;33m(\u001b[0m\u001b[0mvval\u001b[0m\u001b[1;33m[\u001b[0m\u001b[0mi\u001b[0m\u001b[1;33m]\u001b[0m\u001b[1;33m)\u001b[0m\u001b[1;33m)\u001b[0m\u001b[1;33m\u001b[0m\u001b[1;33m\u001b[0m\u001b[0m\n\u001b[0m\u001b[0;32m     11\u001b[0m \u001b[1;33m\u001b[0m\u001b[0m\n\u001b[0;32m     12\u001b[0m \u001b[0mplt\u001b[0m\u001b[1;33m.\u001b[0m\u001b[0mplot\u001b[0m\u001b[1;33m(\u001b[0m\u001b[0mvval\u001b[0m\u001b[1;33m,\u001b[0m \u001b[0mvout\u001b[0m\u001b[1;33m)\u001b[0m\u001b[1;33m\u001b[0m\u001b[1;33m\u001b[0m\u001b[0m\n",
      "\u001b[1;32m<ipython-input-6-c59e30a7cea5>\u001b[0m in \u001b[0;36mfunc\u001b[1;34m(vinp)\u001b[0m\n\u001b[0;32m     20\u001b[0m     \u001b[0mbeta\u001b[0m \u001b[1;33m=\u001b[0m \u001b[1;33m(\u001b[0m\u001b[0mmu\u001b[0m\u001b[1;33m**\u001b[0m\u001b[1;36m2\u001b[0m\u001b[1;33m)\u001b[0m \u001b[1;33m/\u001b[0m \u001b[1;33m(\u001b[0m\u001b[1;36m3\u001b[0m \u001b[1;33m*\u001b[0m \u001b[0mnu\u001b[0m \u001b[1;33m*\u001b[0m \u001b[0mh\u001b[0m\u001b[1;33m**\u001b[0m\u001b[1;36m3\u001b[0m\u001b[1;33m)\u001b[0m\u001b[1;33m\u001b[0m\u001b[1;33m\u001b[0m\u001b[0m\n\u001b[0;32m     21\u001b[0m \u001b[1;33m\u001b[0m\u001b[0m\n\u001b[1;32m---> 22\u001b[1;33m     \u001b[0mv_output\u001b[0m \u001b[1;33m=\u001b[0m \u001b[0mvinp\u001b[0m \u001b[1;33m-\u001b[0m \u001b[1;33m(\u001b[0m\u001b[1;33m(\u001b[0m\u001b[1;33m-\u001b[0m\u001b[1;36m2\u001b[0m \u001b[1;33m*\u001b[0m \u001b[0mmu\u001b[0m \u001b[1;33m*\u001b[0m \u001b[0mmu_g\u001b[0m \u001b[1;33m*\u001b[0m \u001b[1;36m0.248\u001b[0m \u001b[1;33m/\u001b[0m \u001b[0mh\u001b[0m\u001b[1;33m**\u001b[0m\u001b[1;36m3\u001b[0m\u001b[1;33m)\u001b[0m \u001b[1;33m-\u001b[0m \u001b[1;33m(\u001b[0m\u001b[1;36m2\u001b[0m \u001b[1;33m*\u001b[0m \u001b[0mmu\u001b[0m \u001b[1;33m*\u001b[0m \u001b[0mmu_g\u001b[0m \u001b[1;33m/\u001b[0m \u001b[0mh\u001b[0m\u001b[1;33m**\u001b[0m\u001b[1;36m3\u001b[0m\u001b[1;33m)\u001b[0m \u001b[1;33m*\u001b[0m \u001b[0mquad\u001b[0m\u001b[1;33m(\u001b[0m\u001b[0mj_integ\u001b[0m\u001b[1;33m,\u001b[0m \u001b[1;33m-\u001b[0m\u001b[1;36m20\u001b[0m\u001b[1;33m,\u001b[0m \u001b[1;36m20\u001b[0m\u001b[1;33m)\u001b[0m\u001b[1;33m[\u001b[0m\u001b[1;36m0\u001b[0m\u001b[1;33m]\u001b[0m\u001b[1;33m)\u001b[0m\u001b[1;33m\u001b[0m\u001b[1;33m\u001b[0m\u001b[0m\n\u001b[0m\u001b[0;32m     23\u001b[0m \u001b[1;33m\u001b[0m\u001b[0m\n\u001b[0;32m     24\u001b[0m     \u001b[1;32mreturn\u001b[0m \u001b[0mv_output\u001b[0m\u001b[1;33m\u001b[0m\u001b[1;33m\u001b[0m\u001b[0m\n",
      "\u001b[1;32m~\\anaconda3\\lib\\site-packages\\scipy\\integrate\\quadpack.py\u001b[0m in \u001b[0;36mquad\u001b[1;34m(func, a, b, args, full_output, epsabs, epsrel, limit, points, weight, wvar, wopts, maxp1, limlst)\u001b[0m\n\u001b[0;32m    349\u001b[0m \u001b[1;33m\u001b[0m\u001b[0m\n\u001b[0;32m    350\u001b[0m     \u001b[1;32mif\u001b[0m \u001b[0mweight\u001b[0m \u001b[1;32mis\u001b[0m \u001b[1;32mNone\u001b[0m\u001b[1;33m:\u001b[0m\u001b[1;33m\u001b[0m\u001b[1;33m\u001b[0m\u001b[0m\n\u001b[1;32m--> 351\u001b[1;33m         retval = _quad(func, a, b, args, full_output, epsabs, epsrel, limit,\n\u001b[0m\u001b[0;32m    352\u001b[0m                        points)\n\u001b[0;32m    353\u001b[0m     \u001b[1;32melse\u001b[0m\u001b[1;33m:\u001b[0m\u001b[1;33m\u001b[0m\u001b[1;33m\u001b[0m\u001b[0m\n",
      "\u001b[1;32m~\\anaconda3\\lib\\site-packages\\scipy\\integrate\\quadpack.py\u001b[0m in \u001b[0;36m_quad\u001b[1;34m(func, a, b, args, full_output, epsabs, epsrel, limit, points)\u001b[0m\n\u001b[0;32m    461\u001b[0m     \u001b[1;32mif\u001b[0m \u001b[0mpoints\u001b[0m \u001b[1;32mis\u001b[0m \u001b[1;32mNone\u001b[0m\u001b[1;33m:\u001b[0m\u001b[1;33m\u001b[0m\u001b[1;33m\u001b[0m\u001b[0m\n\u001b[0;32m    462\u001b[0m         \u001b[1;32mif\u001b[0m \u001b[0minfbounds\u001b[0m \u001b[1;33m==\u001b[0m \u001b[1;36m0\u001b[0m\u001b[1;33m:\u001b[0m\u001b[1;33m\u001b[0m\u001b[1;33m\u001b[0m\u001b[0m\n\u001b[1;32m--> 463\u001b[1;33m             \u001b[1;32mreturn\u001b[0m \u001b[0m_quadpack\u001b[0m\u001b[1;33m.\u001b[0m\u001b[0m_qagse\u001b[0m\u001b[1;33m(\u001b[0m\u001b[0mfunc\u001b[0m\u001b[1;33m,\u001b[0m\u001b[0ma\u001b[0m\u001b[1;33m,\u001b[0m\u001b[0mb\u001b[0m\u001b[1;33m,\u001b[0m\u001b[0margs\u001b[0m\u001b[1;33m,\u001b[0m\u001b[0mfull_output\u001b[0m\u001b[1;33m,\u001b[0m\u001b[0mepsabs\u001b[0m\u001b[1;33m,\u001b[0m\u001b[0mepsrel\u001b[0m\u001b[1;33m,\u001b[0m\u001b[0mlimit\u001b[0m\u001b[1;33m)\u001b[0m\u001b[1;33m\u001b[0m\u001b[1;33m\u001b[0m\u001b[0m\n\u001b[0m\u001b[0;32m    464\u001b[0m         \u001b[1;32melse\u001b[0m\u001b[1;33m:\u001b[0m\u001b[1;33m\u001b[0m\u001b[1;33m\u001b[0m\u001b[0m\n\u001b[0;32m    465\u001b[0m             \u001b[1;32mreturn\u001b[0m \u001b[0m_quadpack\u001b[0m\u001b[1;33m.\u001b[0m\u001b[0m_qagie\u001b[0m\u001b[1;33m(\u001b[0m\u001b[0mfunc\u001b[0m\u001b[1;33m,\u001b[0m\u001b[0mbound\u001b[0m\u001b[1;33m,\u001b[0m\u001b[0minfbounds\u001b[0m\u001b[1;33m,\u001b[0m\u001b[0margs\u001b[0m\u001b[1;33m,\u001b[0m\u001b[0mfull_output\u001b[0m\u001b[1;33m,\u001b[0m\u001b[0mepsabs\u001b[0m\u001b[1;33m,\u001b[0m\u001b[0mepsrel\u001b[0m\u001b[1;33m,\u001b[0m\u001b[0mlimit\u001b[0m\u001b[1;33m)\u001b[0m\u001b[1;33m\u001b[0m\u001b[1;33m\u001b[0m\u001b[0m\n",
      "\u001b[1;32m<ipython-input-6-c59e30a7cea5>\u001b[0m in \u001b[0;36mj_integ\u001b[1;34m(x)\u001b[0m\n\u001b[0;32m     11\u001b[0m \u001b[1;33m\u001b[0m\u001b[0m\n\u001b[0;32m     12\u001b[0m     \u001b[1;32mdef\u001b[0m \u001b[0mj_integ\u001b[0m\u001b[1;33m(\u001b[0m\u001b[0mx\u001b[0m\u001b[1;33m)\u001b[0m\u001b[1;33m:\u001b[0m\u001b[1;33m\u001b[0m\u001b[1;33m\u001b[0m\u001b[0m\n\u001b[1;32m---> 13\u001b[1;33m         \u001b[1;32mreturn\u001b[0m \u001b[0mx_integ\u001b[0m\u001b[1;33m(\u001b[0m\u001b[0mx\u001b[0m\u001b[1;33m)\u001b[0m \u001b[1;33m*\u001b[0m \u001b[0mintegral_of_f\u001b[0m\u001b[1;33m(\u001b[0m\u001b[0mx\u001b[0m\u001b[1;33m)\u001b[0m\u001b[1;33m\u001b[0m\u001b[1;33m\u001b[0m\u001b[0m\n\u001b[0m\u001b[0;32m     14\u001b[0m \u001b[1;33m\u001b[0m\u001b[0m\n\u001b[0;32m     15\u001b[0m     \u001b[1;32mdef\u001b[0m \u001b[0mintegral_of_f\u001b[0m\u001b[1;33m(\u001b[0m\u001b[0mx\u001b[0m\u001b[1;33m)\u001b[0m\u001b[1;33m:\u001b[0m\u001b[1;33m\u001b[0m\u001b[1;33m\u001b[0m\u001b[0m\n",
      "\u001b[1;32m<ipython-input-6-c59e30a7cea5>\u001b[0m in \u001b[0;36mintegral_of_f\u001b[1;34m(x)\u001b[0m\n\u001b[0;32m     14\u001b[0m \u001b[1;33m\u001b[0m\u001b[0m\n\u001b[0;32m     15\u001b[0m     \u001b[1;32mdef\u001b[0m \u001b[0mintegral_of_f\u001b[0m\u001b[1;33m(\u001b[0m\u001b[0mx\u001b[0m\u001b[1;33m)\u001b[0m\u001b[1;33m:\u001b[0m\u001b[1;33m\u001b[0m\u001b[1;33m\u001b[0m\u001b[0m\n\u001b[1;32m---> 16\u001b[1;33m         \u001b[1;32mreturn\u001b[0m \u001b[0mquad\u001b[0m\u001b[1;33m(\u001b[0m\u001b[0my_integ\u001b[0m\u001b[1;33m,\u001b[0m \u001b[1;36m20\u001b[0m\u001b[1;33m,\u001b[0m \u001b[0mx\u001b[0m\u001b[1;33m)\u001b[0m\u001b[1;33m[\u001b[0m\u001b[1;36m0\u001b[0m\u001b[1;33m]\u001b[0m\u001b[1;33m\u001b[0m\u001b[1;33m\u001b[0m\u001b[0m\n\u001b[0m\u001b[0;32m     17\u001b[0m \u001b[1;33m\u001b[0m\u001b[0m\n\u001b[0;32m     18\u001b[0m \u001b[1;33m\u001b[0m\u001b[0m\n",
      "\u001b[1;32m~\\anaconda3\\lib\\site-packages\\scipy\\integrate\\quadpack.py\u001b[0m in \u001b[0;36mquad\u001b[1;34m(func, a, b, args, full_output, epsabs, epsrel, limit, points, weight, wvar, wopts, maxp1, limlst)\u001b[0m\n\u001b[0;32m    349\u001b[0m \u001b[1;33m\u001b[0m\u001b[0m\n\u001b[0;32m    350\u001b[0m     \u001b[1;32mif\u001b[0m \u001b[0mweight\u001b[0m \u001b[1;32mis\u001b[0m \u001b[1;32mNone\u001b[0m\u001b[1;33m:\u001b[0m\u001b[1;33m\u001b[0m\u001b[1;33m\u001b[0m\u001b[0m\n\u001b[1;32m--> 351\u001b[1;33m         retval = _quad(func, a, b, args, full_output, epsabs, epsrel, limit,\n\u001b[0m\u001b[0;32m    352\u001b[0m                        points)\n\u001b[0;32m    353\u001b[0m     \u001b[1;32melse\u001b[0m\u001b[1;33m:\u001b[0m\u001b[1;33m\u001b[0m\u001b[1;33m\u001b[0m\u001b[0m\n",
      "\u001b[1;32m~\\anaconda3\\lib\\site-packages\\scipy\\integrate\\quadpack.py\u001b[0m in \u001b[0;36m_quad\u001b[1;34m(func, a, b, args, full_output, epsabs, epsrel, limit, points)\u001b[0m\n\u001b[0;32m    461\u001b[0m     \u001b[1;32mif\u001b[0m \u001b[0mpoints\u001b[0m \u001b[1;32mis\u001b[0m \u001b[1;32mNone\u001b[0m\u001b[1;33m:\u001b[0m\u001b[1;33m\u001b[0m\u001b[1;33m\u001b[0m\u001b[0m\n\u001b[0;32m    462\u001b[0m         \u001b[1;32mif\u001b[0m \u001b[0minfbounds\u001b[0m \u001b[1;33m==\u001b[0m \u001b[1;36m0\u001b[0m\u001b[1;33m:\u001b[0m\u001b[1;33m\u001b[0m\u001b[1;33m\u001b[0m\u001b[0m\n\u001b[1;32m--> 463\u001b[1;33m             \u001b[1;32mreturn\u001b[0m \u001b[0m_quadpack\u001b[0m\u001b[1;33m.\u001b[0m\u001b[0m_qagse\u001b[0m\u001b[1;33m(\u001b[0m\u001b[0mfunc\u001b[0m\u001b[1;33m,\u001b[0m\u001b[0ma\u001b[0m\u001b[1;33m,\u001b[0m\u001b[0mb\u001b[0m\u001b[1;33m,\u001b[0m\u001b[0margs\u001b[0m\u001b[1;33m,\u001b[0m\u001b[0mfull_output\u001b[0m\u001b[1;33m,\u001b[0m\u001b[0mepsabs\u001b[0m\u001b[1;33m,\u001b[0m\u001b[0mepsrel\u001b[0m\u001b[1;33m,\u001b[0m\u001b[0mlimit\u001b[0m\u001b[1;33m)\u001b[0m\u001b[1;33m\u001b[0m\u001b[1;33m\u001b[0m\u001b[0m\n\u001b[0m\u001b[0;32m    464\u001b[0m         \u001b[1;32melse\u001b[0m\u001b[1;33m:\u001b[0m\u001b[1;33m\u001b[0m\u001b[1;33m\u001b[0m\u001b[0m\n\u001b[0;32m    465\u001b[0m             \u001b[1;32mreturn\u001b[0m \u001b[0m_quadpack\u001b[0m\u001b[1;33m.\u001b[0m\u001b[0m_qagie\u001b[0m\u001b[1;33m(\u001b[0m\u001b[0mfunc\u001b[0m\u001b[1;33m,\u001b[0m\u001b[0mbound\u001b[0m\u001b[1;33m,\u001b[0m\u001b[0minfbounds\u001b[0m\u001b[1;33m,\u001b[0m\u001b[0margs\u001b[0m\u001b[1;33m,\u001b[0m\u001b[0mfull_output\u001b[0m\u001b[1;33m,\u001b[0m\u001b[0mepsabs\u001b[0m\u001b[1;33m,\u001b[0m\u001b[0mepsrel\u001b[0m\u001b[1;33m,\u001b[0m\u001b[0mlimit\u001b[0m\u001b[1;33m)\u001b[0m\u001b[1;33m\u001b[0m\u001b[1;33m\u001b[0m\u001b[0m\n",
      "\u001b[1;32m<ipython-input-6-c59e30a7cea5>\u001b[0m in \u001b[0;36my_integ\u001b[1;34m(y)\u001b[0m\n\u001b[0;32m      5\u001b[0m \u001b[1;33m\u001b[0m\u001b[0m\n\u001b[0;32m      6\u001b[0m     \u001b[1;32mdef\u001b[0m \u001b[0my_integ\u001b[0m\u001b[1;33m(\u001b[0m\u001b[0my\u001b[0m\u001b[1;33m)\u001b[0m\u001b[1;33m:\u001b[0m\u001b[1;33m\u001b[0m\u001b[1;33m\u001b[0m\u001b[0m\n\u001b[1;32m----> 7\u001b[1;33m         \u001b[1;32mreturn\u001b[0m \u001b[0mbeta\u001b[0m \u001b[1;33m*\u001b[0m \u001b[0mf\u001b[0m\u001b[1;33m(\u001b[0m\u001b[0my\u001b[0m\u001b[1;33m)\u001b[0m \u001b[1;33m*\u001b[0m \u001b[0mnp\u001b[0m\u001b[1;33m.\u001b[0m\u001b[0mexp\u001b[0m\u001b[1;33m(\u001b[0m\u001b[1;33m-\u001b[0m\u001b[0mbeta\u001b[0m \u001b[1;33m*\u001b[0m \u001b[0mg\u001b[0m\u001b[1;33m(\u001b[0m\u001b[0my\u001b[0m\u001b[1;33m)\u001b[0m \u001b[1;33m-\u001b[0m \u001b[1;33m(\u001b[0m\u001b[1;33m(\u001b[0m\u001b[1;33m-\u001b[0m\u001b[0mh\u001b[0m \u001b[1;33m/\u001b[0m \u001b[1;33m(\u001b[0m\u001b[1;36m3\u001b[0m \u001b[1;33m*\u001b[0m \u001b[0mnu\u001b[0m\u001b[1;33m)\u001b[0m\u001b[1;33m)\u001b[0m \u001b[1;33m*\u001b[0m \u001b[1;33m(\u001b[0m\u001b[0mvinp\u001b[0m \u001b[1;33m+\u001b[0m \u001b[1;33m(\u001b[0m\u001b[1;36m3\u001b[0m \u001b[1;33m*\u001b[0m \u001b[0mnu\u001b[0m\u001b[1;33m)\u001b[0m \u001b[1;33m/\u001b[0m \u001b[1;36m2\u001b[0m\u001b[1;33m)\u001b[0m\u001b[1;33m)\u001b[0m \u001b[1;33m*\u001b[0m \u001b[0my\u001b[0m\u001b[1;33m)\u001b[0m\u001b[1;33m\u001b[0m\u001b[1;33m\u001b[0m\u001b[0m\n\u001b[0m\u001b[0;32m      8\u001b[0m \u001b[1;33m\u001b[0m\u001b[0m\n\u001b[0;32m      9\u001b[0m     \u001b[1;32mdef\u001b[0m \u001b[0mx_integ\u001b[0m\u001b[1;33m(\u001b[0m\u001b[0mx\u001b[0m\u001b[1;33m)\u001b[0m\u001b[1;33m:\u001b[0m\u001b[1;33m\u001b[0m\u001b[1;33m\u001b[0m\u001b[0m\n",
      "\u001b[1;32m<ipython-input-2-16b0156a0313>\u001b[0m in \u001b[0;36m<lambda>\u001b[1;34m(x)\u001b[0m\n\u001b[0;32m      1\u001b[0m \u001b[1;31m# Torque density F(x) and its integral Γ(x)\u001b[0m\u001b[1;33m\u001b[0m\u001b[1;33m\u001b[0m\u001b[1;33m\u001b[0m\u001b[0m\n\u001b[0;32m      2\u001b[0m \u001b[1;33m\u001b[0m\u001b[0m\n\u001b[1;32m----> 3\u001b[1;33m f = lambda x: np.piecewise(x, [(x > 2/3), (x < -2/3), (-2/3 < x) & (x < 2/3)], \n\u001b[0m\u001b[0;32m      4\u001b[0m                           [lambda x: np.exp(-abs(-1.05/(x - 2/3)))*(0.228/(x - 2/3)**4 + 0.136/(x - 2/3)**3), \n\u001b[0;32m      5\u001b[0m                            \u001b[1;32mlambda\u001b[0m \u001b[0mx\u001b[0m\u001b[1;33m:\u001b[0m \u001b[1;33m-\u001b[0m\u001b[1;36m1\u001b[0m\u001b[1;33m*\u001b[0m\u001b[0mnp\u001b[0m\u001b[1;33m.\u001b[0m\u001b[0mexp\u001b[0m\u001b[1;33m(\u001b[0m\u001b[1;33m-\u001b[0m\u001b[0mabs\u001b[0m\u001b[1;33m(\u001b[0m\u001b[1;33m-\u001b[0m\u001b[1;36m1.05\u001b[0m\u001b[1;33m/\u001b[0m\u001b[1;33m(\u001b[0m\u001b[0mx\u001b[0m \u001b[1;33m+\u001b[0m \u001b[1;36m2\u001b[0m\u001b[1;33m/\u001b[0m\u001b[1;36m3\u001b[0m\u001b[1;33m)\u001b[0m\u001b[1;33m)\u001b[0m\u001b[1;33m)\u001b[0m\u001b[1;33m*\u001b[0m\u001b[1;33m(\u001b[0m\u001b[1;36m0.228\u001b[0m\u001b[1;33m/\u001b[0m\u001b[1;33m(\u001b[0m\u001b[0mx\u001b[0m \u001b[1;33m+\u001b[0m \u001b[1;36m2\u001b[0m\u001b[1;33m/\u001b[0m\u001b[1;36m3\u001b[0m\u001b[1;33m)\u001b[0m\u001b[1;33m**\u001b[0m\u001b[1;36m4\u001b[0m \u001b[1;33m+\u001b[0m \u001b[1;36m0.136\u001b[0m\u001b[1;33m/\u001b[0m\u001b[1;33m(\u001b[0m\u001b[0mx\u001b[0m \u001b[1;33m+\u001b[0m \u001b[1;36m2\u001b[0m\u001b[1;33m/\u001b[0m\u001b[1;36m3\u001b[0m\u001b[1;33m)\u001b[0m\u001b[1;33m**\u001b[0m\u001b[1;36m3\u001b[0m\u001b[1;33m)\u001b[0m\u001b[1;33m,\u001b[0m\u001b[1;33m\u001b[0m\u001b[1;33m\u001b[0m\u001b[0m\n",
      "\u001b[1;32m<__array_function__ internals>\u001b[0m in \u001b[0;36mpiecewise\u001b[1;34m(*args, **kwargs)\u001b[0m\n",
      "\u001b[1;32m~\\anaconda3\\lib\\site-packages\\numpy\\lib\\function_base.py\u001b[0m in \u001b[0;36mpiecewise\u001b[1;34m(x, condlist, funclist, *args, **kw)\u001b[0m\n\u001b[0;32m    590\u001b[0m \u001b[1;33m\u001b[0m\u001b[0m\n\u001b[0;32m    591\u001b[0m     \u001b[1;31m# undocumented: single condition is promoted to a list of one condition\u001b[0m\u001b[1;33m\u001b[0m\u001b[1;33m\u001b[0m\u001b[1;33m\u001b[0m\u001b[0m\n\u001b[1;32m--> 592\u001b[1;33m     if isscalar(condlist) or (\n\u001b[0m\u001b[0;32m    593\u001b[0m             not isinstance(condlist[0], (list, ndarray)) and x.ndim != 0):\n\u001b[0;32m    594\u001b[0m         \u001b[0mcondlist\u001b[0m \u001b[1;33m=\u001b[0m \u001b[1;33m[\u001b[0m\u001b[0mcondlist\u001b[0m\u001b[1;33m]\u001b[0m\u001b[1;33m\u001b[0m\u001b[1;33m\u001b[0m\u001b[0m\n",
      "\u001b[1;32m~\\anaconda3\\lib\\site-packages\\numpy\\core\\numeric.py\u001b[0m in \u001b[0;36misscalar\u001b[1;34m(element)\u001b[0m\n\u001b[0;32m   1941\u001b[0m     return (isinstance(element, generic)\n\u001b[0;32m   1942\u001b[0m             \u001b[1;32mor\u001b[0m \u001b[0mtype\u001b[0m\u001b[1;33m(\u001b[0m\u001b[0melement\u001b[0m\u001b[1;33m)\u001b[0m \u001b[1;32min\u001b[0m \u001b[0mScalarType\u001b[0m\u001b[1;33m\u001b[0m\u001b[1;33m\u001b[0m\u001b[0m\n\u001b[1;32m-> 1943\u001b[1;33m             or isinstance(element, numbers.Number))\n\u001b[0m\u001b[0;32m   1944\u001b[0m \u001b[1;33m\u001b[0m\u001b[0m\n\u001b[0;32m   1945\u001b[0m \u001b[1;33m\u001b[0m\u001b[0m\n",
      "\u001b[1;31mKeyboardInterrupt\u001b[0m: "
     ]
    }
   ],
   "source": [
    "# VERIFICATION OF ALGORITHM (to verify the triple velocity existence in alpha = 10^-5 plot !)\n",
    "\n",
    "strt = time.time()\n",
    "\n",
    "vval = np.logspace(-3e-8,  -7.8e-5, 100)    # range of values of v_input    # used logspace now (earlier linspace)\n",
    " \n",
    "vout = []\n",
    "for i in range(len(vval)):\n",
    "    vout.append(func(vval[i]))\n",
    "    print(i,\" \",vval[i],\" \",func(vval[i]))\n",
    "\n",
    "plt.plot(vval, vout)\n",
    "plt.axhline(y = 0.0, color = \"black\", linestyle = '--', linewidth = 0.5)    # x-axis line\n",
    "plt.xlabel(r'$v_{input}$', fontsize = 14)\n",
    "plt.ylabel(r'$v_{s} - RHS$', fontsize = 14)\n",
    "plt.show()    \n",
    "    \n",
    "end = time.time()\n",
    "print('\\n',\"time:\",(end-strt)/60,\"min\")"
   ]
  },
  {
   "cell_type": "code",
   "execution_count": 161,
   "id": "80606905",
   "metadata": {
    "scrolled": false
   },
   "outputs": [
    {
     "data": {
      "image/png": "[encoded data removed]",
      "text/plain": [
       "<Figure size 504x360 with 1 Axes>"
      ]
     },
     "metadata": {
      "needs_background": "light"
     },
     "output_type": "display_data"
    }
   ],
   "source": [
    "# plot generated from the above code.\n",
    "\n",
    "plt.figure(figsize = (7, 5))\n",
    "plt.plot(vval, vout)\n",
    "\n",
    "plt.axhline(y = 0.0, color = \"black\", linestyle = 'o--', linewidth = 0.5)\n",
    "plt.axvline(x = -5.587*10**-5, color = \"black\", linestyle = '--', linewidth = 0.5)\n",
    "plt.axvline(x = -1.492*10**-5, color = \"black\", linestyle = '--', linewidth = 0.5)\n",
    "plt.axvline(x = -7.300*10**-7, color = \"black\", linestyle = '--', linewidth = 0.5)\n",
    "\n",
    "plt.text(-5e-5, 4.2e-5, r'$\\mu = 1.55 x 10^{-5}$', fontsize = 11)\n",
    "plt.text(-5e-5, 3.5e-5, r'$\\alpha = 10^{-5}$', fontsize = 11)\n",
    "\n",
    "plt.xlabel(r'$v_{input}$', fontsize = 14, labelpad = 10)\n",
    "plt.ylabel(r'$v_{s} - RHS$', fontsize = 14)\n",
    "#plt.savefig(\"bisection-verification.jpg\", dpi = 1200)\n",
    "plt.show()"
   ]
  },
  {
   "cell_type": "code",
   "execution_count": 15,
   "id": "8a285788",
   "metadata": {},
   "outputs": [],
   "source": [
    "def integral_equation(mu, v_input):\n",
    "        \n",
    "    def j(x, y):\n",
    "        return x_integ(x) * y_integ(y)\n",
    "\n",
    "    def y_integ(y):\n",
    "        return beta * f(y) * np.exp(-beta * g(y) - ((-h / (3 * nu)) * (v_input + (3 * nu) / 2)) * y)\n",
    "\n",
    "    def x_integ(x):\n",
    "        return f(x) * np.exp(beta * g(x) + ((-h / (3 * nu)) * (v_input + (3 * nu) / 2)) * x)\n",
    "\n",
    "    def j_integ(x):\n",
    "        return x_integ(x) * integral_of_f(x)\n",
    "\n",
    "    def integral_of_f(x):\n",
    "        return quad(y_integ, 20, x)[0]  \n",
    "\n",
    "                  \n",
    "    beta = (mu**2) / (3 * nu * h**3)       \n",
    "        \n",
    "    v_output = (-2 * mu * mu_g * 0.248 / h**3) - (2 * mu * mu_g / h**3) * quad(j_integ, -20, 20)[0]  \n",
    "        \n",
    "    return v_output"
   ]
  },
  {
   "cell_type": "code",
   "execution_count": 40,
   "id": "03d9b16d",
   "metadata": {
    "collapsed": true
   },
   "outputs": [
    {
     "name": "stdout",
     "output_type": "stream",
     "text": [
      "0   -4.0989691445237246e-07\n",
      "1   -3.9276185796207896e-07\n",
      "2   -3.857203745829823e-07\n",
      "3   -3.8287603478282516e-07\n",
      "4   -3.817352802852176e-07\n",
      "5   -3.8127909500203323e-07\n",
      "6   -3.810968803628097e-07\n",
      "7   -3.810241321544238e-07\n",
      "8   -3.809950932489604e-07\n",
      "9   -3.8098350265206323e-07\n",
      "10   -3.809788765156525e-07\n",
      "11   -3.8097703011515825e-07\n",
      "12   -3.8097629317653015e-07\n",
      "13   -3.809759990488396e-07\n",
      "14   -3.8097588165638674e-07\n",
      "15   -3.809758348026418e-07\n",
      "16   -3.809758161023496e-07\n",
      "17   -3.8097580863867925e-07\n",
      "18   -3.809758056597753e-07\n"
     ]
    },
    {
     "data": {
      "image/png": "[encoded data removed]",
      "text/plain": [
       "<Figure size 432x288 with 1 Axes>"
      ]
     },
     "metadata": {
      "needs_background": "light"
     },
     "output_type": "display_data"
    },
    {
     "data": {
      "image/png": "[encoded data removed]",
      "text/plain": [
       "<Figure size 432x288 with 1 Axes>"
      ]
     },
     "metadata": {
      "needs_background": "light"
     },
     "output_type": "display_data"
    },
    {
     "name": "stdout",
     "output_type": "stream",
     "text": [
      "\n",
      " v output: (-3.809758056597753e-07, 7.447259909851174e-13)\n",
      "\n",
      " time: 4.9292217572530115 min\n"
     ]
    }
   ],
   "source": [
    "ti = time.time()\n",
    "\n",
    "sol = algo(-4.5e-7, 0.004, 1e-12)\n",
    "\n",
    "te = time.time()\n",
    "print('\\n',\"v output:\",sol)\n",
    "print('\\n',\"time:\",(te-ti)/60,'min')"
   ]
  },
  {
   "cell_type": "code",
   "execution_count": 134,
   "id": "37171827",
   "metadata": {},
   "outputs": [
    {
     "data": {
      "image/png": "[encoded data removed]",
      "text/plain": [
       "<Figure size 648x504 with 1 Axes>"
      ]
     },
     "metadata": {
      "needs_background": "light"
     },
     "output_type": "display_data"
    }
   ],
   "source": [
    "mu_values1 = [-1, -0.71428571, -0.42857143, -0.14285714, 0.14285714, \n",
    "              0.42857143, 0.53, 0.63, 0.714, 0.80, 0.80, 0.714, 0.66, \n",
    "              0.63, 0.714, 0.80, 0.855, 1]                             # values of mass for first plot in log scale \n",
    "                                                                                                   \n",
    "\n",
    "mu_values2 = [-1, -0.71428571, -0.42857143, -0.14285714, 0.14285714, \n",
    "              0.42857143, 0.71428571, 0.88, 1, 1.1428, 1.28571429, 1.57142857, 1.85714286] #... ...for second plot in log scale  \n",
    "\n",
    "mu_values3 = log_mass[0:12]\n",
    "mu_values4 = log_mass[0:14]\n",
    "\n",
    "V = -6.122 * 10**-5  # Normalization factor for velocity\n",
    "\n",
    "v_values1 = np.array([-1.5183*10**-6, -2.924*10**-6, -5.61*10**-6, -1.064*10**-5, -2.00*10**-5, \n",
    "                      -3.589*10**-5, -4.476*10**-5, -5.0722*10**-5, -5.587*10**-5, \n",
    "                      -5.69*10**-5, -3.51*10**-5, -1.492*10**-5, -8.57*10**-6, -2.05*10**-6, -7.3*10**-7, \n",
    "                      -3.809*10**-7 ,-2.6*10**-7, -1.204*10**-7])/V\n",
    "\n",
    "\n",
    "v_values2 = np.array([ -1.5183*10**-6, -2.93*10**-6, -5.65*10**-6, -1.089*10**-5, -2.08*10**-5, \n",
    "                      -3.88*10**-5, -6.77*10**-5, -8.512*10**-5, -8.456*10**-5, -1.217*10**-5,  \n",
    "                      -4.14*10**-6, -1.03*10**-6, -8.79*10**-7])/V\n",
    "\n",
    "v_values3 = np.array([ -1.51*10**-6, -2.93*10**-6, -5.66*10**-6, -1.092*10**-5, -2.108*10**-5, -4.06*10**-5, -7.75*10**-5,\n",
    "                      -1.42*10**-4, -2.2264*10**-4, -1.4398*10**-4, -2.489*10**-5, -1.003*10**-5])/V\n",
    "\n",
    "v_values4 = np.array([-1.518*10**-6, -2.93*10**-6, -5.65*10**-6, -1.089*10**-5, -2.08*10**-5, -4.07*10**-5, -7.86*10**-5,\n",
    "                      -1.51*10**-4, -2.89*10**-4, -5.33*10**-4, -8.23*10**-4, -6.299*10**-4, -1.57*10**-4, -9.89*10**-5])/V\n",
    "\n",
    "\n",
    "v_log1 = np.log10(v_values1)\n",
    "v_log2 = np.log10(v_values2)\n",
    "v_log3 = np.log10(v_values3)\n",
    "v_log4 = np.log10(v_values4)\n",
    "\n",
    "mpl.rcParams['mathtext.default'] = 'regular'\n",
    "plt.figure(figsize = (9, 7))\n",
    "\n",
    "plt.axvline(x = 0.714, color = \"black\", linestyle = '--', linewidth = 0.5)\n",
    "plt.axvline(x = 0.630, color = \"black\", linestyle = '--', linewidth = 0.5)\n",
    "plt.axvline(x = 0.800, color = \"black\", linestyle = '--', linewidth = 0.5)\n",
    "\n",
    "plt.plot(mu_values1, v_log1, 'o--', lw = 0.6, label = r'$\\alpha = 10^{-5}$', markersize = 3)\n",
    "plt.plot(mu_values2, v_log2, 'o--', lw = 0.6, label = r'$\\alpha = 10^{-4}$', markersize = 3, color = 'orange')\n",
    "plt.plot(mu_values3, v_log3, 'o--', lw = 0.6, label = r'$\\alpha = 10^{-3}$', markersize = 3, color = 'green')\n",
    "plt.plot(mu_values4, v_log4, 'o--', lw = 0.6, label = r'$\\alpha = 10^{-2}$', markersize = 3, color = 'red')\n",
    "plt.xlabel(r'$log(M/M_{earth})$', fontsize = 14, labelpad = 10)\n",
    "plt.ylabel(r'$log(v_{s}/V)$', fontsize = 14)\n",
    "plt.legend(fontsize = 11)\n",
    "plt.xlim(-1.2, 3.2)\n",
    "plt.ylim(-3.5, 3.4)\n",
    "#plt.savefig(\"eqn-34_plot2.jpg\", dpi = 1200)\n",
    "plt.show()"
   ]
  },
  {
   "cell_type": "code",
   "execution_count": 135,
   "id": "dc6f3103",
   "metadata": {},
   "outputs": [],
   "source": [
    "up = 3 * 10**-6\n",
    "x = np.arange(-1, 3, 0.1)\n",
    "u = up * 10**x                       \n",
    "ug = 0.0035             \n",
    "u_log_arr = np.array(u/up)     \n",
    "u_log_arr2 = u_log_arr.astype(float)\n",
    "u_log = np.log10(u_log_arr2)          # log scale for mass\n",
    "V = -6.122 * 10**-5                   # Velocity normalization factor"
   ]
  },
  {
   "cell_type": "code",
   "execution_count": 136,
   "id": "ca936520",
   "metadata": {},
   "outputs": [],
   "source": [
    "def del_v0(alpha):\n",
    "    \n",
    "    uv = 0.0024*(alpha)**(1/2)\n",
    "    return ((-2 * ug * uv**2) * (1 - np.exp(-0.248 * (u/uv)**2)))/(0.000343 * u)\n",
    "\n",
    "del_v = np.vectorize(del_v0)\n",
    "\n",
    "dv1 = del_v(10**(-5))\n",
    "dv2 = del_v(10**(-4))\n",
    "dv3 = del_v(10**(-3))\n",
    "dv4 = del_v(10**(-2))\n",
    "\n",
    "v_s_arr = np.array([dv1, dv2, dv3, dv4])"
   ]
  },
  {
   "cell_type": "code",
   "execution_count": 137,
   "id": "38565574",
   "metadata": {},
   "outputs": [],
   "source": [
    "def velocity1(alpha, nu):\n",
    "    u2 = 0.00371 * (alpha**(2/3))/0.63\n",
    "    return (dv1/(1 + (u/u2)**3)) - ((3 * nu/2)/(1 + (u2/u)**3))\n",
    "\n",
    "def velocity2(alpha, nu):\n",
    "    u2 = 0.00371 * (alpha**(2/3))/0.63\n",
    "    return (dv2/(1 + (u/u2)**3)) - ((3 * nu/2)/(1 + (u2/u)**3))\n",
    "\n",
    "def velocity3(alpha, nu):\n",
    "    u2 = 0.00371 * (alpha**(2/3))/0.63\n",
    "    return (dv3/(1 + (u/u2)**3)) - ((3 * nu/2)/(1 + (u2/u)**3))\n",
    "\n",
    "def velocity4(alpha, nu):\n",
    "    u2 = 0.00371 * (alpha**(2/3))/0.63\n",
    "    return (dv4/(1 + (u/u2)**3)) - ((3 * nu/2)/(1 + (u2/u)**3))\n",
    "\n",
    "vec_velocity1 = np.vectorize(velocity1)\n",
    "vec_velocity2 = np.vectorize(velocity2)\n",
    "vec_velocity3 = np.vectorize(velocity3)\n",
    "vec_velocity4 = np.vectorize(velocity4)\n",
    "\n",
    "vel1 = vec_velocity1(10**(-5), 5.6 * 10**-8)\n",
    "vel2 = vec_velocity2(10**(-4), 5.6 * 10**-7)\n",
    "vel3 = vec_velocity3(10**(-3), 5.6 * 10**-6)\n",
    "vel4 = vec_velocity4(10**(-2), 5.6 * 10**-5)"
   ]
  },
  {
   "cell_type": "code",
   "execution_count": 162,
   "id": "40c2bd4a",
   "metadata": {},
   "outputs": [
    {
     "data": {
      "image/png": "[encoded data removed]",
      "text/plain": [
       "<Figure size 576x576 with 1 Axes>"
      ]
     },
     "metadata": {
      "needs_background": "light"
     },
     "output_type": "display_data"
    }
   ],
   "source": [
    "mp = 3*10**-6      \n",
    "x = np.arange(-1, 3, 0.1)        \n",
    "mu = mp * 10**x                      # mass - scale\n",
    "mu_log_arr = np.array(mu/mp)     \n",
    "mu_log_arr2 = mu_log_arr.astype(float)\n",
    "mu_log = np.log10(mu_log_arr2)     \n",
    "\n",
    "import matplotlib as mpl\n",
    "mpl.rcParams['mathtext.default'] = 'regular'\n",
    "\n",
    "plt.figure(figsize = (8, 8))\n",
    "plt.plot(mu_log, np.log10(vel1/V), '--', lw = 0.5, markersize = 3, color = \"blue\")\n",
    "plt.plot(mu_log, np.log10(vel2/V), '--', lw = 0.5, markersize = 3, color = \"orange\")\n",
    "plt.plot(mu_log, np.log10(vel3/V), '--', lw = 0.5, markersize = 3, color = \"green\")\n",
    "plt.plot(mu_log, np.log10(vel4/V), '--', lw = 0.5, markersize = 3, color = \"red\")\n",
    "plt.plot(mu_values1, v_log1, lw = 0.8, label = r'$\\alpha = 10^{-5}$', color = \"blue\")\n",
    "plt.plot(mu_values2, v_log2, lw = 0.8, label = r'$\\alpha = 10^{-4}$', color = \"orange\")\n",
    "plt.plot(mu_values3, v_log3, lw = 0.8, label = r'$\\alpha = 10^{-3}$', color = \"green\")\n",
    "plt.plot(mu_values4, v_log4, lw = 0.8, label = r'$\\alpha = 10^{-2}$', color = \"red\")\n",
    "plt.xlabel(r'$log(M/M_{earth})$', fontsize = 13, labelpad = 10)\n",
    "plt.ylabel(r'$log(v_{s}/V)$', fontsize = 13)\n",
    "plt.legend(fontsize = 11)\n",
    "plt.xlim(-1, 3)\n",
    "plt.ylim(-4, 3)\n",
    "#plt.savefig(\"num_soln.jpg\", dpi = 1200)\n",
    "\n",
    "plt.xlabel(r'$log(M/M_{earth})$', fontsize = 14)\n",
    "plt.ylabel(r'$log(v_{s}/V)$', fontsize = 14)\n",
    "plt.show()"
   ]
  },
  {
   "cell_type": "code",
   "execution_count": null,
   "id": "70684355",
   "metadata": {},
   "outputs": [],
   "source": []
  }
 ],
 "metadata": {
  "kernelspec": {
   "display_name": "Python 3",
   "language": "python",
   "name": "python3"
  },
  "language_info": {
   "codemirror_mode": {
    "name": "ipython",
    "version": 3
   },
   "file_extension": ".py",
   "mimetype": "text/x-python",
   "name": "python",
   "nbconvert_exporter": "python",
   "pygments_lexer": "ipython3",
   "version": "3.8.8"
  }
 },
 "nbformat": 4,
 "nbformat_minor": 5
}
